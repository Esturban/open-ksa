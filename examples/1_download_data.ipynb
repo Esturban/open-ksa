{
 "cells": [
  {
   "cell_type": "markdown",
   "metadata": {},
   "source": [
    "# Example Workbook for Using APIs to Download Data from Organizations\n",
    "\n",
    "This Jupyter Notebook demonstrates how to use APIs to download data from a specific organization and provider. The example uses the search functionality from the original website: [Saudi Open Data](https://open.data.gov.sa/en/publishers).\n",
    "\n",
    "## Workflow Overview\n",
    "\n",
    "1. **Import Necessary Modules**: Import the required functions from the `open_ksa` module.\n",
    "2. **Search for Organizations**: Use the search function to find organizations based on a keyword.\n",
    "3. **Retrieve Organization ID**: Extract the organization ID from the search results.\n",
    "4. **Get Organization Resources**: Fetch all dataset IDs and other resources associated with the organization.\n",
    "5. **Download Data**: Download the datasets to a specified directory.\n",
    "\n",
    "### Steps 1 and 2\n",
    "\n",
    "Here we showcase how the modules are imported and the organizations are found in the search in the process of discovery based on certain key word term.\n"
   ]
  },
  {
   "cell_type": "code",
   "execution_count": 3,
   "metadata": {},
   "outputs": [
    {
     "name": "stdout",
     "output_type": "stream",
     "text": [
      "| publisherID                          | slug                                | Datasets |\n",
      "--------------------------------------------------------------------------------------\n",
      "| 8ac3c65d-196b-4c20-84a0-a8f7df8eb97d | saudi_arabian_airlines_organization | 147      |\n",
      "| 4ae6e154-831c-4b91-af10-08d1712b9457 | saudi_post                          | 130      |\n",
      "| d69f01cd-ef1b-47e4-ad23-8e58a8d5a468 | saudi-ports-authority               | 97       |\n",
      "| 31112e94-7ee6-4a3f-9f5e-7e847508fa9f | saudi_railways_organization         | 83       |\n",
      "| 8355d923-079a-4637-92f6-01af9c2b2ab2 | saudi-red-crescent-authority        | 65       |\n",
      "| ec06e501-f8a2-43a8-a207-81315c7da202 | saudi-press-agency                  | 51       |\n",
      "| 784467c1-0949-4120-b969-e4ffbd037bfa | saudi_customs_authority             | 38       |\n",
      "| 1005ea7c-0848-44ee-b193-ea9be821ec14 | saudi-geological-survey             | 36       |\n",
      "| c6fedddd-8103-400c-a073-6a26d878baf2 | saudi_industrial_development_fund   | 33       |\n",
      "| 83a1712a-7cb3-4879-bd02-4bb36880f90a | saudi-central-bank                  | 23       |\n"
     ]
    }
   ],
   "source": [
    "#Here you can import all of the corresponding functions from the workbook\n",
    "import open_ksa as ok\n",
    "\n",
    "#An example on how to use the search function\n",
    "orgs = ok.organizations(search=\"saudi\")\n",
    "\n",
    "#Note: Orgs as a value has the export of the full JSON taken from the API\n"
   ]
  },
  {
   "cell_type": "markdown",
   "metadata": {},
   "source": [
    "### Steps 3 - 5\n",
    "\n",
    "Once you've discovered the organization you want to pull the data from, we can begin to assign the organization and similarly look for all of the associated resources and download them in the process to a local folder.\n",
    "\n",
    "The folder path is usually assigned in the workspace where `python` is running and the allowed extensions specify the file types to download.\n",
    "\n",
    "#### Variables\n",
    "\n",
    "- **`dataset_ids`**: List of dataset IDs retrieved from the organization.\n",
    "- **`ks`**: Organization ID.\n",
    "- **`location`**: Directory path where the datasets will be saved.\n",
    "- **`organization_id`**: Organization ID (same as `ks`).\n",
    "- **`orgs`**: Dictionary containing search results for organizations.\n",
    "- **`resources`**: Dictionary containing resources and dataset IDs for the organization.\n",
    "\n",
    "This workbook provides a structured approach to interact with the API, search for organizations, retrieve relevant data, and download it for further analysis.\n"
   ]
  },
  {
   "cell_type": "code",
   "execution_count": 7,
   "metadata": {},
   "outputs": [],
   "source": [
    "#Here, we grab the first value which is the value of the organization ID from the API\n",
    "#Depending on the parameters, we can specify the return of the response\n",
    "ks = orgs['content'][5]['publisherID']\n",
    "# We have now gotten the publisher ID programmatically. If you change the ID to a string of your choosing or decide to \n",
    "#change the search, you can change the orgs['content'][0]['publisherID'] to match your search and the index 0 to N to \n",
    "#to match the organization you want\n",
    "resources = ok.get_org_resources(org_id=ks)\n",
    "#Here, we grab all of the different dataset_ids\n",
    "dataset_ids = resources['dataset_ids']\n",
    "#Here, we grab the organization ID as well. But we can use the same organization ID from the ks value\n",
    "# we named it ks for 'King Saud University'\n",
    "organization_id = resources['organization_id']\n",
    "location = f\"opendata/{resources['organization_name'].strip().replace(' ', '_').lower()}\"\n",
    "# Create a directory named after the organization ID\n",
    "# Get all of the data resources for the organization\n",
    "ok.get_dataset_resources(dataset_ids=dataset_ids, \n",
    "                         allowed_exts=[\"csv\"],\n",
    "                        #You can update the dataset resource location to change the output directory\n",
    "                        #Note: you may have to make the directory\n",
    "                         output_dir=location\n",
    "                         )\n"
   ]
  }
 ],
 "metadata": {
  "kernelspec": {
   "display_name": "venv",
   "language": "python",
   "name": "python3"
  },
  "language_info": {
   "codemirror_mode": {
    "name": "ipython",
    "version": 3
   },
   "file_extension": ".py",
   "mimetype": "text/x-python",
   "name": "python",
   "nbconvert_exporter": "python",
   "pygments_lexer": "ipython3",
   "version": "3.12.6"
  }
 },
 "nbformat": 4,
 "nbformat_minor": 2
}
